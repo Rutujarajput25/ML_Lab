{
 "cells": [
  {
   "cell_type": "code",
   "execution_count": 1,
   "id": "eeb32ce3-3f5e-41a2-bf1b-22ba6c2e0811",
   "metadata": {},
   "outputs": [],
   "source": [
    "import pandas as pd\n",
    "from sklearn.naive_bayes import CategoricalNB\n",
    "from sklearn.preprocessing import LabelEncoder\n",
    "\n",
    "data=pd.read_csv(\"insurance.csv\")"
   ]
  },
  {
   "cell_type": "code",
   "execution_count": 3,
   "id": "b75d6695-911d-4bfc-99eb-c03a2ee3ea7a",
   "metadata": {},
   "outputs": [
    {
     "data": {
      "text/html": [
       "<div>\n",
       "<style scoped>\n",
       "    .dataframe tbody tr th:only-of-type {\n",
       "        vertical-align: middle;\n",
       "    }\n",
       "\n",
       "    .dataframe tbody tr th {\n",
       "        vertical-align: top;\n",
       "    }\n",
       "\n",
       "    .dataframe thead th {\n",
       "        text-align: right;\n",
       "    }\n",
       "</style>\n",
       "<table border=\"1\" class=\"dataframe\">\n",
       "  <thead>\n",
       "    <tr style=\"text-align: right;\">\n",
       "      <th></th>\n",
       "      <th>age</th>\n",
       "      <th>sex</th>\n",
       "      <th>bmi</th>\n",
       "      <th>children</th>\n",
       "      <th>smoker</th>\n",
       "      <th>region</th>\n",
       "      <th>charges</th>\n",
       "    </tr>\n",
       "  </thead>\n",
       "  <tbody>\n",
       "    <tr>\n",
       "      <th>0</th>\n",
       "      <td>19</td>\n",
       "      <td>female</td>\n",
       "      <td>27.900</td>\n",
       "      <td>0</td>\n",
       "      <td>yes</td>\n",
       "      <td>southwest</td>\n",
       "      <td>16884.92400</td>\n",
       "    </tr>\n",
       "    <tr>\n",
       "      <th>1</th>\n",
       "      <td>18</td>\n",
       "      <td>male</td>\n",
       "      <td>33.770</td>\n",
       "      <td>1</td>\n",
       "      <td>no</td>\n",
       "      <td>southeast</td>\n",
       "      <td>1725.55230</td>\n",
       "    </tr>\n",
       "    <tr>\n",
       "      <th>2</th>\n",
       "      <td>28</td>\n",
       "      <td>male</td>\n",
       "      <td>33.000</td>\n",
       "      <td>3</td>\n",
       "      <td>no</td>\n",
       "      <td>southeast</td>\n",
       "      <td>4449.46200</td>\n",
       "    </tr>\n",
       "    <tr>\n",
       "      <th>3</th>\n",
       "      <td>33</td>\n",
       "      <td>male</td>\n",
       "      <td>22.705</td>\n",
       "      <td>0</td>\n",
       "      <td>no</td>\n",
       "      <td>northwest</td>\n",
       "      <td>21984.47061</td>\n",
       "    </tr>\n",
       "    <tr>\n",
       "      <th>4</th>\n",
       "      <td>32</td>\n",
       "      <td>male</td>\n",
       "      <td>28.880</td>\n",
       "      <td>0</td>\n",
       "      <td>no</td>\n",
       "      <td>northwest</td>\n",
       "      <td>3866.85520</td>\n",
       "    </tr>\n",
       "  </tbody>\n",
       "</table>\n",
       "</div>"
      ],
      "text/plain": [
       "   age     sex     bmi  children smoker     region      charges\n",
       "0   19  female  27.900         0    yes  southwest  16884.92400\n",
       "1   18    male  33.770         1     no  southeast   1725.55230\n",
       "2   28    male  33.000         3     no  southeast   4449.46200\n",
       "3   33    male  22.705         0     no  northwest  21984.47061\n",
       "4   32    male  28.880         0     no  northwest   3866.85520"
      ]
     },
     "execution_count": 3,
     "metadata": {},
     "output_type": "execute_result"
    }
   ],
   "source": [
    "data.head()"
   ]
  },
  {
   "cell_type": "code",
   "execution_count": 5,
   "id": "7b2959b2-aa1f-449b-a858-1e9ddc742fc9",
   "metadata": {},
   "outputs": [
    {
     "name": "stdout",
     "output_type": "stream",
     "text": [
      "Frequency Table (sex vs smoker):\n",
      "smoker   no  yes\n",
      "sex             \n",
      "female  547  115\n",
      "male    517  159\n"
     ]
    }
   ],
   "source": [
    "frequency_table = pd.crosstab(data['sex'], data['smoker'])\n",
    "print(\"Frequency Table (sex vs smoker):\")\n",
    "print(frequency_table)"
   ]
  },
  {
   "cell_type": "code",
   "execution_count": 11,
   "id": "2de8c3cd-7282-4d82-bf32-2fce2c3f1900",
   "metadata": {},
   "outputs": [],
   "source": [
    "le_sex = LabelEncoder()\n",
    "le_smoker = LabelEncoder()\n",
    "le_insurance = LabelEncoder()"
   ]
  },
  {
   "cell_type": "code",
   "execution_count": 13,
   "id": "f0edd6ec-2d17-4728-a3d7-9a7c09795b55",
   "metadata": {},
   "outputs": [],
   "source": [
    "data['sex_enc'] = le_sex.fit_transform(data['sex'])\n",
    "data['smoker_enc'] = le_smoker.fit_transform(data['smoker'])\n",
    "data['insurance_enc'] = le_insurance.fit_transform(data['charges'])"
   ]
  },
  {
   "cell_type": "code",
   "execution_count": 15,
   "id": "137f6ce0-7741-4003-8465-8d2b3f597fec",
   "metadata": {},
   "outputs": [],
   "source": [
    "# Features and target\n",
    "X = data[['sex_enc', 'smoker_enc']]\n",
    "y = data['insurance_enc']"
   ]
  },
  {
   "cell_type": "code",
   "execution_count": 17,
   "id": "74bbb2e9-ea9d-4f56-9357-81b0840fa7fa",
   "metadata": {},
   "outputs": [],
   "source": [
    "# Features and target\n",
    "X = data[['sex_enc', 'smoker_enc']]\n",
    "y = data['insurance_enc']"
   ]
  },
  {
   "cell_type": "code",
   "execution_count": 19,
   "id": "8becc524-57e4-4b1c-bbb3-1e50c0c4c379",
   "metadata": {},
   "outputs": [
    {
     "name": "stdout",
     "output_type": "stream",
     "text": [
      "\n",
      "Prediction for male smoker:\n",
      "[12829.4551]\n"
     ]
    },
    {
     "name": "stderr",
     "output_type": "stream",
     "text": [
      "C:\\Users\\rutuj\\anaconda3\\Lib\\site-packages\\sklearn\\base.py:493: UserWarning: X does not have valid feature names, but CategoricalNB was fitted with feature names\n",
      "  warnings.warn(\n"
     ]
    }
   ],
   "source": [
    "# Predicting an example: male, smoker\n",
    "model = CategoricalNB()\n",
    "model.fit(X, y)\n",
    "\n",
    "# Predicting an example: male, smoker\n",
    "input_example = [[le_sex.transform(['male'])[0], le_smoker.transform(['yes'])[0]]]\n",
    "predicted = model.predict(input_example)\n",
    "\n",
    "print(\"\\nPrediction for male smoker:\")\n",
    "print(le_insurance.inverse_transform(predicted))"
   ]
  },
  {
   "cell_type": "code",
   "execution_count": 21,
   "id": "03b77dfa-aa88-46b6-9982-37c17fe07f72",
   "metadata": {},
   "outputs": [
    {
     "name": "stdout",
     "output_type": "stream",
     "text": [
      "\n",
      "Prediction for female smoker:\n",
      "[13844.506]\n"
     ]
    },
    {
     "name": "stderr",
     "output_type": "stream",
     "text": [
      "C:\\Users\\rutuj\\anaconda3\\Lib\\site-packages\\sklearn\\base.py:493: UserWarning: X does not have valid feature names, but CategoricalNB was fitted with feature names\n",
      "  warnings.warn(\n"
     ]
    }
   ],
   "source": [
    "input_example = [[le_sex.transform(['female'])[0], le_smoker.transform(['yes'])[0]]]\n",
    "predicted = model.predict(input_example)\n",
    "\n",
    "print(\"\\nPrediction for female smoker:\")\n",
    "print(le_insurance.inverse_transform(predicted))"
   ]
  },
  {
   "cell_type": "code",
   "execution_count": null,
   "id": "490cd9a5-3227-440a-ba85-24bc99d76be3",
   "metadata": {},
   "outputs": [],
   "source": []
  }
 ],
 "metadata": {
  "kernelspec": {
   "display_name": "Python 3 (ipykernel)",
   "language": "python",
   "name": "python3"
  },
  "language_info": {
   "codemirror_mode": {
    "name": "ipython",
    "version": 3
   },
   "file_extension": ".py",
   "mimetype": "text/x-python",
   "name": "python",
   "nbconvert_exporter": "python",
   "pygments_lexer": "ipython3",
   "version": "3.12.4"
  }
 },
 "nbformat": 4,
 "nbformat_minor": 5
}
